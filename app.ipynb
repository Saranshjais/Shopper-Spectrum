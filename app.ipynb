{
 "cells": [
  {
   "cell_type": "code",
   "execution_count": 1,
   "id": "abd01aa3",
   "metadata": {},
   "outputs": [],
   "source": [
    "# Create and write a Streamlit application file with proper Unicode support\n",
    "with open(\"app.py\", \"w\", encoding=\"utf-8\") as f:\n",
    "    f.write(\"\"\"\n",
    "import streamlit as st\n",
    "import pandas as pd\n",
    "import pickle\n",
    "from sklearn.preprocessing import StandardScaler\n",
    "\n",
    "# Load pre-trained models\n",
    "kmeans_model = pickle.load(open(\"kmeans_model.pkl\", \"rb\"))                  # KMeans clustering model for customer segmentation\n",
    "similarity_df = pickle.load(open(\"product_similarity.pkl\", \"rb\"))           # Cosine similarity matrix for product recommendations\n",
    "\n",
    "# Streamlit app title\n",
    "st.title(\"🛒 Shopper Spectrum\")\n",
    "\n",
    "#  Create tabs for two functionalities: product recommendations and customer segmentation\n",
    "tab1, tab2 = st.tabs([\"Product Recommendations\", \"Customer Segmentation\"])\n",
    "\n",
    "# ==============================================\n",
    "#  TAB 1: PRODUCT RECOMMENDATIONS\n",
    "# ==============================================\n",
    "with tab1:\n",
    "    st.subheader(\"🔍Get Similar Products\")\n",
    "    product = st.text_input(\"Enter Product Code (e.g., 84029E)\")  # Input product code\n",
    "\n",
    "    if st.button(\"Recommend\"):\n",
    "        if product in similarity_df.columns:\n",
    "            # Get top 5 similar products based on cosine similarity\n",
    "            similar_items = similarity_df[product].sort_values(ascending=False)[1:6]\n",
    "            st.success(\"Top 5 Recommendations:\")\n",
    "            for i, item in enumerate(similar_items.index):\n",
    "                st.write(f\"{i+1}. Product Code: {item}\")\n",
    "        else:\n",
    "            st.error(\"Product not found.\")\n",
    "            \n",
    "            \n",
    "\n",
    "# ==============================================\n",
    "#  TAB 2: CUSTOMER SEGMENTATION\n",
    "# ==============================================\n",
    "with tab2:\n",
    "    st.subheader(\"📊 Customer Segment Prediction\")\n",
    "    \n",
    "    # Accept Recency, Frequency, Monetary values as user input\n",
    "    r = st.number_input(\"Recency (in days)\", min_value=0)\n",
    "    f = st.number_input(\"Frequency (number of purchases)\", min_value=0)\n",
    "    m = st.number_input(\"Monetary (total spend)\", min_value=0.0)\n",
    "\n",
    "    if st.button(\"Predict Segment\"):\n",
    "        # Standardize the input before predicting\n",
    "        scaler = StandardScaler()\n",
    "        scaled_input = scaler.fit_transform([[r, f, m]])\n",
    "\n",
    "        # Predict the cluster using the trained KMeans model\n",
    "        cluster = kmeans_model.predict(scaled_input)[0]\n",
    "\n",
    "        # Map cluster to human-readable segment labels\n",
    "        segments = {\n",
    "            0: \"High-Value\",\n",
    "            1: \"Regular\",\n",
    "            2: \"Occasional\",\n",
    "            3: \"At-Risk\"\n",
    "        }\n",
    "\n",
    "        # Show predicted segment\n",
    "        st.info(f\"Predicted Segment: **{segments.get(cluster, 'Unknown')}**\")\n",
    "    \"\"\")\n"
   ]
  },
  {
   "cell_type": "code",
   "execution_count": null,
   "id": "fef241cf",
   "metadata": {},
   "outputs": [],
   "source": [
    "\n"
   ]
  },
  {
   "cell_type": "code",
   "execution_count": null,
   "id": "6a0ebb15",
   "metadata": {},
   "outputs": [],
   "source": []
  },
  {
   "cell_type": "code",
   "execution_count": null,
   "id": "d5d8481a",
   "metadata": {},
   "outputs": [],
   "source": [
    "\n"
   ]
  },
  {
   "cell_type": "code",
   "execution_count": null,
   "id": "d29c301a",
   "metadata": {},
   "outputs": [],
   "source": []
  }
 ],
 "metadata": {
  "kernelspec": {
   "display_name": "Python 3 (ipykernel)",
   "language": "python",
   "name": "python3"
  },
  "language_info": {
   "codemirror_mode": {
    "name": "ipython",
    "version": 3
   },
   "file_extension": ".py",
   "mimetype": "text/x-python",
   "name": "python",
   "nbconvert_exporter": "python",
   "pygments_lexer": "ipython3",
   "version": "3.11.5"
  }
 },
 "nbformat": 4,
 "nbformat_minor": 5
}
